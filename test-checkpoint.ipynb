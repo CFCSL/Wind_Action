{
 "cells": [
  {
   "cell_type": "code",
   "execution_count": 1,
   "id": "b6a2d362-4174-4c9e-b0bd-dccf294a0efe",
   "metadata": {
    "tags": []
   },
   "outputs": [
    {
     "name": "stdout",
     "output_type": "stream",
     "text": [
      "4.119797705804209\n"
     ]
    }
   ],
   "source": [
    "from wind_action_secc4 import *\n"
   ]
  },
  {
   "cell_type": "code",
   "execution_count": 3,
   "id": "ddf14da8-2907-4705-9173-90333d4a0b60",
   "metadata": {},
   "outputs": [
    {
     "data": {
      "text/plain": [
       "0.0"
      ]
     },
     "execution_count": 3,
     "metadata": {},
     "output_type": "execute_result"
    }
   ],
   "source": [
    "np.log(1)"
   ]
  },
  {
   "cell_type": "code",
   "execution_count": null,
   "id": "ad5cf637-f1fe-49dd-b74c-e8dca81a3250",
   "metadata": {},
   "outputs": [],
   "source": []
  }
 ],
 "metadata": {
  "kernelspec": {
   "display_name": "Python 3 (ipykernel)",
   "language": "python",
   "name": "python3"
  },
  "language_info": {
   "codemirror_mode": {
    "name": "ipython",
    "version": 3
   },
   "file_extension": ".py",
   "mimetype": "text/x-python",
   "name": "python",
   "nbconvert_exporter": "python",
   "pygments_lexer": "ipython3",
   "version": "3.10.9"
  }
 },
 "nbformat": 4,
 "nbformat_minor": 5
}
