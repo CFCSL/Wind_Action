{
 "cells": [
  {
   "cell_type": "markdown",
   "id": "ca7ea0ff",
   "metadata": {},
   "source": [
    "# Sympy: substitution of nested functions"
   ]
  },
  {
   "cell_type": "markdown",
   "id": "7fc80915",
   "metadata": {},
   "source": [
    "## Introduce the parameters"
   ]
  },
  {
   "cell_type": "code",
   "execution_count": 2,
   "id": "6347df4b-c75b-436d-9ff9-cc72816b2f0b",
   "metadata": {
    "tags": []
   },
   "outputs": [],
   "source": [
    "from sympy import symbols, Eq, Function,UnevaluatedExpr, Mul, Rational, sqrt\n",
    "from sympy import Piecewise, nan"
   ]
  },
  {
   "cell_type": "code",
   "execution_count": 3,
   "id": "8f3739ed",
   "metadata": {
    "tags": []
   },
   "outputs": [
    {
     "data": {
      "text/latex": [
       "$\\displaystyle f{\\left(x \\right)}$"
      ],
      "text/plain": [
       "f(x)"
      ]
     },
     "metadata": {},
     "output_type": "display_data"
    },
    {
     "data": {
      "text/latex": [
       "$\\displaystyle g{\\left(f{\\left(x \\right)},y \\right)}$"
      ],
      "text/plain": [
       "g(f(x), y)"
      ]
     },
     "metadata": {},
     "output_type": "display_data"
    },
    {
     "data": {
      "text/latex": [
       "$\\displaystyle k{\\left(g{\\left(f{\\left(x \\right)},y \\right)},y \\right)}$"
      ],
      "text/plain": [
       "k(g(f(x), y), y)"
      ]
     },
     "metadata": {},
     "output_type": "display_data"
    }
   ],
   "source": [
    "x, y= symbols('x y')\n",
    "f=symbols('f',cls=Function)(x)\n",
    "g=symbols('g',cls=Function)(f,y)\n",
    "k=symbols('k',cls=Function)(g,y)\n",
    "\n",
    "display(f)\n",
    "display(g)\n",
    "display(k)\n",
    "\n"
   ]
  },
  {
   "cell_type": "markdown",
   "id": "211b40b8",
   "metadata": {},
   "source": [
    "## kwargs concept"
   ]
  },
  {
   "cell_type": "code",
   "execution_count": 4,
   "id": "52c0511b",
   "metadata": {
    "tags": []
   },
   "outputs": [
    {
     "data": {
      "text/latex": [
       "$\\displaystyle x + 1$"
      ],
      "text/plain": [
       "x + 1"
      ]
     },
     "metadata": {},
     "output_type": "display_data"
    },
    {
     "data": {
      "text/latex": [
       "$\\displaystyle y + f{\\left(x \\right)}$"
      ],
      "text/plain": [
       "y + f(x)"
      ]
     },
     "metadata": {},
     "output_type": "display_data"
    },
    {
     "data": {
      "text/latex": [
       "$\\displaystyle y + g{\\left(f{\\left(x \\right)},y \\right)}$"
      ],
      "text/plain": [
       "y + g(f(x), y)"
      ]
     },
     "metadata": {},
     "output_type": "display_data"
    }
   ],
   "source": [
    "def f_func1(**kwargs):\n",
    "    return x+1\n",
    "def g_func1(**kwargs):\n",
    "    return f+y\n",
    "def k_func1(**kwargs):\n",
    "    return g+y\n",
    "\n",
    "display(f_func1())\n",
    "display(g_func1())\n",
    "display(k_func1())"
   ]
  },
  {
   "cell_type": "markdown",
   "id": "489e1f4b",
   "metadata": {},
   "source": [
    "## introducing substitution"
   ]
  },
  {
   "cell_type": "code",
   "execution_count": 5,
   "id": "851a3dfd",
   "metadata": {
    "tags": []
   },
   "outputs": [
    {
     "name": "stdout",
     "output_type": "stream",
     "text": [
      "--------------------------\n"
     ]
    },
    {
     "data": {
      "text/latex": [
       "$\\displaystyle x + 1$"
      ],
      "text/plain": [
       "x + 1"
      ]
     },
     "metadata": {},
     "output_type": "display_data"
    },
    {
     "data": {
      "text/latex": [
       "$\\displaystyle 3$"
      ],
      "text/plain": [
       "3"
      ]
     },
     "metadata": {},
     "output_type": "display_data"
    },
    {
     "name": "stdout",
     "output_type": "stream",
     "text": [
      "--------------------------\n"
     ]
    },
    {
     "data": {
      "text/latex": [
       "$\\displaystyle y + f{\\left(x \\right)}$"
      ],
      "text/plain": [
       "y + f(x)"
      ]
     },
     "metadata": {},
     "output_type": "display_data"
    },
    {
     "data": {
      "text/latex": [
       "$\\displaystyle y + f{\\left(x \\right)}$"
      ],
      "text/plain": [
       "y + f(x)"
      ]
     },
     "metadata": {},
     "output_type": "display_data"
    },
    {
     "data": {
      "text/latex": [
       "$\\displaystyle y + f{\\left(3 \\right)}$"
      ],
      "text/plain": [
       "y + f(3)"
      ]
     },
     "metadata": {},
     "output_type": "display_data"
    },
    {
     "name": "stdout",
     "output_type": "stream",
     "text": [
      "--------------------------\n"
     ]
    },
    {
     "data": {
      "text/latex": [
       "$\\displaystyle y + g{\\left(f{\\left(x \\right)},y \\right)}$"
      ],
      "text/plain": [
       "y + g(f(x), y)"
      ]
     },
     "metadata": {},
     "output_type": "display_data"
    },
    {
     "data": {
      "text/latex": [
       "$\\displaystyle y + g{\\left(f{\\left(x \\right)},y \\right)}$"
      ],
      "text/plain": [
       "y + g(f(x), y)"
      ]
     },
     "metadata": {},
     "output_type": "display_data"
    },
    {
     "data": {
      "text/latex": [
       "$\\displaystyle y + g{\\left(f{\\left(2 \\right)},y \\right)}$"
      ],
      "text/plain": [
       "y + g(f(2), y)"
      ]
     },
     "metadata": {},
     "output_type": "display_data"
    }
   ],
   "source": [
    "def f_func2(**kwargs):\n",
    "    expr=x+1\n",
    "    expr=expr.subs(kwargs)\n",
    "    return expr\n",
    "\n",
    "def g_func2(**kwargs):\n",
    "    expr=f+y\n",
    "    expr=expr.subs(kwargs)\n",
    "    return expr\n",
    "\n",
    "def k_func2(**kwargs):\n",
    "    expr=g+y\n",
    "    expr=expr.subs(kwargs)\n",
    "    return expr\n",
    "\n",
    "print('--------------------------')\n",
    "display(f_func2())\n",
    "display(f_func2(x=2))\n",
    "print('--------------------------')\n",
    "display(g_func2())\n",
    "display(g_func2(f=f_func2()))       #f=f_func2() has no effect because g is already replaced\n",
    "display(g_func2(f=f_func2(),x=3))   #f will not be replaced because sympy does not substitute the nested functions.\n",
    "print('--------------------------')\n",
    "display(k_func2())\n",
    "display(k_func2(g=g_func2()))      #g=g_func2() has no effect because g is already replaced\n",
    "display(k_func2(g=g_func2(),x=2))  # f will not be replaced because sympy does not substitute the nested functions."
   ]
  },
  {
   "cell_type": "markdown",
   "id": "4f07b96b",
   "metadata": {},
   "source": [
    "### introducing default parameters"
   ]
  },
  {
   "cell_type": "code",
   "execution_count": 6,
   "id": "c011068f",
   "metadata": {
    "tags": []
   },
   "outputs": [
    {
     "name": "stdout",
     "output_type": "stream",
     "text": [
      "--------------------------\n"
     ]
    },
    {
     "data": {
      "text/latex": [
       "$\\displaystyle y + f{\\left(x \\right)}$"
      ],
      "text/plain": [
       "y + f(x)"
      ]
     },
     "metadata": {},
     "output_type": "display_data"
    },
    {
     "data": {
      "text/latex": [
       "$\\displaystyle y + 1 + x$"
      ],
      "text/plain": [
       "y + 1 + x"
      ]
     },
     "metadata": {},
     "output_type": "display_data"
    },
    {
     "data": {
      "text/latex": [
       "$\\displaystyle y + 1 + 3$"
      ],
      "text/plain": [
       "y + 1 + 3"
      ]
     },
     "metadata": {},
     "output_type": "display_data"
    },
    {
     "data": {
      "text/latex": [
       "$\\displaystyle y + 4$"
      ],
      "text/plain": [
       "y + 4"
      ]
     },
     "metadata": {},
     "output_type": "display_data"
    },
    {
     "name": "stdout",
     "output_type": "stream",
     "text": [
      "--------------------------\n"
     ]
    },
    {
     "data": {
      "text/latex": [
       "$\\displaystyle y + g{\\left(f{\\left(x \\right)},y \\right)}$"
      ],
      "text/plain": [
       "y + g(f(x), y)"
      ]
     },
     "metadata": {},
     "output_type": "display_data"
    },
    {
     "data": {
      "text/latex": [
       "$\\displaystyle y + y + f{\\left(x \\right)}$"
      ],
      "text/plain": [
       "y + (y + f(x))"
      ]
     },
     "metadata": {},
     "output_type": "display_data"
    },
    {
     "data": {
      "text/latex": [
       "$\\displaystyle y + y + f{\\left(x \\right)}$"
      ],
      "text/plain": [
       "y + (y + f(x))"
      ]
     },
     "metadata": {},
     "output_type": "display_data"
    },
    {
     "data": {
      "text/latex": [
       "$\\displaystyle y + y + f{\\left(3 \\right)}$"
      ],
      "text/plain": [
       "y + (y + f(3))"
      ]
     },
     "metadata": {},
     "output_type": "display_data"
    }
   ],
   "source": [
    "def f_func3(x=x,**kwargs):\n",
    "    x=UnevaluatedExpr(x)\n",
    "    expr=x+1\n",
    "    expr=expr.subs(kwargs)\n",
    "    return expr\n",
    "\n",
    "def g_func3(f=f,**kwargs):\n",
    "    #f=UnevaluatedExpr(f)\n",
    "    expr=f+y\n",
    "    expr=expr.subs(kwargs)\n",
    "    return expr\n",
    "\n",
    "def k_func3(g=g,**kwargs):\n",
    "    g=UnevaluatedExpr(g)\n",
    "    expr=g+y\n",
    "    expr=expr.subs(kwargs)\n",
    "    return expr\n",
    "\n",
    "\n",
    "print('--------------------------')\n",
    "display(g_func3())\n",
    "display(g_func3(f=f_func3()))               #f=f_func2() works beacuse of UnevaluatedExpr\n",
    "display(g_func3(f=f_func3(),x=3))           # f will not be replaced because sympy does not substitute the nested functions.\n",
    "display(g_func3(f=f_func3(),x=3).doit()) \n",
    "print('--------------------------')\n",
    "display(k_func3())\n",
    "display(k_func3(g=g_func3()))                #g=g_func3() works beacuse of UnevaluatedExpr\n",
    "display(k_func3(g=g_func3(),f=f_func3()))    #f=f_func3() does NOT work because sympy does not substitute the nested functions.\n",
    "display(k_func3(g=g_func3(),f=f_func3(),x=3)) "
   ]
  },
  {
   "cell_type": "markdown",
   "id": "278f8010",
   "metadata": {},
   "source": [
    "#### using an auxilary paramtere ( Does NOT work)"
   ]
  },
  {
   "cell_type": "code",
   "execution_count": 7,
   "id": "8960ac99",
   "metadata": {
    "tags": []
   },
   "outputs": [
    {
     "name": "stdout",
     "output_type": "stream",
     "text": [
      "--------------------------\n"
     ]
    },
    {
     "data": {
      "text/latex": [
       "$\\displaystyle y + g{\\left(f{\\left(x \\right)},y \\right)}$"
      ],
      "text/plain": [
       "y + g(f(x), y)"
      ]
     },
     "metadata": {},
     "output_type": "display_data"
    },
    {
     "data": {
      "text/latex": [
       "$\\displaystyle y + y + f{\\left(x \\right)}$"
      ],
      "text/plain": [
       "y + (y + f(x))"
      ]
     },
     "metadata": {},
     "output_type": "display_data"
    },
    {
     "data": {
      "text/latex": [
       "$\\displaystyle y + y + f{\\left(x \\right)}$"
      ],
      "text/plain": [
       "y + (y + f(x))"
      ]
     },
     "metadata": {},
     "output_type": "display_data"
    },
    {
     "data": {
      "text/latex": [
       "$\\displaystyle y + y + f{\\left(3 \\right)}$"
      ],
      "text/plain": [
       "y + (y + f(3))"
      ]
     },
     "metadata": {},
     "output_type": "display_data"
    }
   ],
   "source": [
    "f1, g1= symbols('f1 g1')\n",
    "\n",
    "def f_func4(x=x,**kwargs):\n",
    "    x=UnevaluatedExpr(x)\n",
    "    expr=x+1\n",
    "    expr=expr.subs(kwargs)\n",
    "    return expr\n",
    "\n",
    "def g_func4(f1=f,**kwargs):\n",
    "    f1=UnevaluatedExpr(f1)\n",
    "    expr=f1+y\n",
    "    expr=expr.subs(kwargs)\n",
    "    return expr\n",
    "\n",
    "def k_func4(g1=g,**kwargs):\n",
    "    g1=UnevaluatedExpr(g1)\n",
    "    expr=g1+y\n",
    "    expr=expr.subs(kwargs)\n",
    "    return expr\n",
    "\n",
    "print('--------------------------')\n",
    "display(k_func4())\n",
    "display(k_func4(g1=g_func4()))                 #g=g_func3() works beacuse of UnevaluatedExpr\n",
    "display(k_func4(g1=g_func4(),f1=f_func4()))    #f=f_func3() does NOT work because sympy does not substitute the nested functions.\n",
    "display(k_func4(g1=g_func4(),f1=f_func4(),x=3)) "
   ]
  },
  {
   "cell_type": "markdown",
   "id": "12c268c6",
   "metadata": {},
   "source": [
    "# Final solution (Works !!!)"
   ]
  },
  {
   "cell_type": "code",
   "execution_count": 128,
   "id": "d64120e7",
   "metadata": {
    "tags": []
   },
   "outputs": [
    {
     "data": {
      "text/latex": [
       "$\\displaystyle f = 1 + x$"
      ],
      "text/plain": [
       "Eq(f, 1 + x)"
      ]
     },
     "metadata": {},
     "output_type": "display_data"
    },
    {
     "data": {
      "text/latex": [
       "$\\displaystyle g = y + f{\\left(x \\right)}$"
      ],
      "text/plain": [
       "Eq(g, y + f(x))"
      ]
     },
     "metadata": {},
     "output_type": "display_data"
    },
    {
     "data": {
      "text/latex": [
       "$\\displaystyle k = y + z + g{\\left(x,y \\right)}$"
      ],
      "text/plain": [
       "Eq(k, y + z + g(x, y))"
      ]
     },
     "metadata": {},
     "output_type": "display_data"
    },
    {
     "data": {
      "text/latex": [
       "$\\displaystyle k = 2 y + z + f{\\left(x \\right)}$"
      ],
      "text/plain": [
       "Eq(k, 2*y + z + f(x))"
      ]
     },
     "metadata": {},
     "output_type": "display_data"
    },
    {
     "data": {
      "text/latex": [
       "$\\displaystyle 2 y + z + 1 + x$"
      ],
      "text/plain": [
       "2*y + z + 1 + x"
      ]
     },
     "metadata": {},
     "output_type": "display_data"
    },
    {
     "data": {
      "text/latex": [
       "$\\displaystyle 2 y + z + 1 + 3$"
      ],
      "text/plain": [
       "2*y + z + 1 + 3"
      ]
     },
     "metadata": {},
     "output_type": "display_data"
    },
    {
     "data": {
      "text/latex": [
       "$\\displaystyle 2 y + z + 1 + x$"
      ],
      "text/plain": [
       "2*y + z + 1 + x"
      ]
     },
     "metadata": {},
     "output_type": "display_data"
    },
    {
     "data": {
      "text/latex": [
       "$\\displaystyle 17$"
      ],
      "text/plain": [
       "17"
      ]
     },
     "metadata": {},
     "output_type": "display_data"
    }
   ],
   "source": [
    "from sympy import symbols, Function, UnevaluatedExpr\n",
    "x, y, z= symbols('x y z')\n",
    "f=symbols('f',cls=Function)(x)\n",
    "g=symbols('g',cls=Function)(x,y)\n",
    "k=symbols('k',cls=Function)(x,y)\n",
    "\n",
    "def f_func5(x=x,**kwargs):\n",
    "    x=UnevaluatedExpr(x)\n",
    "    expr=x+1\n",
    "    expr=expr.subs(kwargs)\n",
    "    return expr\n",
    "\n",
    "def g_func5(f=f,**kwargs):\n",
    "    expr=f+y\n",
    "    expr=expr.subs(kwargs)\n",
    "    return expr\n",
    "def k_func5(g=g,**kwargs):\n",
    "    #print(kwargs)\n",
    "  \n",
    "    expr=g+y+z\n",
    "    expr=expr.subs(kwargs)\n",
    "    return expr\n",
    "\n",
    "# nested dictionary\n",
    "db={}\n",
    "db={'g':g_func5(),'f':f_func5()}\n",
    "db={'g':g_func5(**db),'f':f_func5(**db)}\n",
    "\n",
    "display(Eq(symbols('f'),f_func5()))\n",
    "display(Eq(symbols('g'),g_func5()))\n",
    "display(Eq(symbols('k'),k_func5()))\n",
    "display(Eq(symbols('k'),k_func5(g=g_func5())))                \n",
    "display(k_func5(g=g_func5(**db),f=f_func5(**db)))    \n",
    "display(k_func5(g=g_func5(**db),f=z,x=3)) \n",
    "display(k_func5(**db)) \n",
    "display(k_func5(**db,x=3, y=4, z=5).doit()) "
   ]
  },
  {
   "cell_type": "code",
   "execution_count": null,
   "id": "e01e4aed-495f-42f3-87f7-f36f1384b33f",
   "metadata": {},
   "outputs": [],
   "source": []
  },
  {
   "cell_type": "code",
   "execution_count": 45,
   "id": "f84c929e-5f27-449c-834f-65215ba2f0be",
   "metadata": {
    "tags": []
   },
   "outputs": [
    {
     "data": {
      "text/latex": [
       "$\\displaystyle f = 10 + x + 2 y$"
      ],
      "text/plain": [
       "Eq(f, 10 + x + 2*y)"
      ]
     },
     "metadata": {},
     "output_type": "display_data"
    },
    {
     "data": {
      "text/latex": [
       "$\\displaystyle f = 10 + 1 + 2 \\cdot 2$"
      ],
      "text/plain": [
       "Eq(f, 10 + 1 + 2*2)"
      ]
     },
     "metadata": {},
     "output_type": "display_data"
    }
   ],
   "source": [
    "from sympy import symbols, Function, UnevaluatedExpr\n",
    "x, y, z, t= symbols('x y z t')\n",
    "f=symbols('f')\n",
    "g=symbols('g',cls=Function)(x,y)\n",
    "k=symbols('k',cls=Function)(x,y)\n",
    "\n",
    "def f_func5(x=x,**kwargs):\n",
    "    x=UnevaluatedExpr(x)\n",
    "    expr=x+1\n",
    "    expr=expr.subs(kwargs)\n",
    "    return expr\n",
    "\n",
    "def f_test(x=x, y=y, **kwargs):\n",
    "    x=UnevaluatedExpr(x)\n",
    "    y=UnevaluatedExpr(y)\n",
    "    expr= x+2*y+10\n",
    "    expr=expr.subs(kwargs)\n",
    "    return Eq(f,expr)\n",
    "\n",
    "x=1\n",
    "y=2\n",
    "z=3\n",
    "\n",
    "\n",
    "display(f_test())\n",
    "\n",
    "display(f_test(x=x,y=y, t=t, z=z))\n",
    "    "
   ]
  },
  {
   "cell_type": "code",
   "execution_count": 74,
   "id": "72cdc191-3e60-45cb-9e13-17e97eeeb6eb",
   "metadata": {
    "tags": []
   },
   "outputs": [],
   "source": [
    "class Cal:\n",
    "    def __init__(self, **params):\n",
    "        self.a = params.get('a', 0)\n",
    "        self.b = params.get('b', 0)\n",
    "        self.c = params.get('c', 0)\n",
    "        self.d = params.get('d', 0)\n",
    "        \n",
    "    def v_b(self):\n",
    "        exp = self.a * self.b * self.c\n",
    "        return exp\n",
    "\n",
    "\n",
    "    def k_r(self):\n",
    "        exp = 0.19 * (self.c / self.b) ** 0.07\n",
    "        return exp\n",
    "    \n",
    "    def c_r(self, z):\n",
    "        condlist = [np.logical_and(z >= self.a, z <= self.b), z <= self.a]\n",
    "        funclist = [self.k_r() * np.log(z / self.c), self.k_r() * np.log(self.a / self.c)]\n",
    "        if z != 0 and self.a != 0 and self.c != 0:\n",
    "            funclist = [self.k_r() * np.log(z / self.c), self.k_r() * np.log(self.a / self.c)]\n",
    "        else:\n",
    "            pass\n",
    "        exp = np.piecewise(z, condlist, funclist)\n",
    "        return exp\n",
    "\n"
   ]
  },
  {
   "cell_type": "code",
   "execution_count": 78,
   "id": "c4138e64-5c09-4523-8b6a-28bae6ce877b",
   "metadata": {
    "tags": []
   },
   "outputs": [
    {
     "name": "stdout",
     "output_type": "stream",
     "text": [
      "0.19386495670834714\n"
     ]
    }
   ],
   "source": [
    "a=1\n",
    "b=3\n",
    "c=4\n",
    "d=8\n",
    "\n",
    "cal_instance = Cal(d=d,a=a,b=b,c=c)\n",
    "\n",
    "# Call the k_r method on the instance\n",
    "result = cal_instance.k_r()\n",
    "\n",
    "print(result)"
   ]
  },
  {
   "cell_type": "code",
   "execution_count": 131,
   "id": "9a26fd2b-bc96-47f3-958b-ccdf4638146f",
   "metadata": {
    "tags": []
   },
   "outputs": [
    {
     "data": {
      "text/latex": [
       "$\\displaystyle f = a x + 1$"
      ],
      "text/plain": [
       "Eq(f, a*x + 1)"
      ]
     },
     "metadata": {},
     "output_type": "display_data"
    },
    {
     "data": {
      "text/latex": [
       "$\\displaystyle f = 5 a + 1$"
      ],
      "text/plain": [
       "Eq(f, 5*a + 1)"
      ]
     },
     "metadata": {},
     "output_type": "display_data"
    },
    {
     "data": {
      "text/latex": [
       "$\\displaystyle g = b \\left(a x + 1\\right) + c y$"
      ],
      "text/plain": [
       "Eq(g, b*(a*x + 1) + c*y)"
      ]
     },
     "metadata": {},
     "output_type": "display_data"
    },
    {
     "data": {
      "text/latex": [
       "$\\displaystyle k = b \\left(a x + 1\\right) + c y + y + z$"
      ],
      "text/plain": [
       "Eq(k, b*(a*x + 1) + c*y + y + z)"
      ]
     },
     "metadata": {},
     "output_type": "display_data"
    },
    {
     "name": "stdout",
     "output_type": "stream",
     "text": [
      "___________________________substituting parameters____________________________________\n"
     ]
    },
    {
     "data": {
      "text/latex": [
       "$\\displaystyle f = x + 1$"
      ],
      "text/plain": [
       "Eq(f, x + 1)"
      ]
     },
     "metadata": {},
     "output_type": "display_data"
    },
    {
     "data": {
      "text/latex": [
       "$\\displaystyle f = 6$"
      ],
      "text/plain": [
       "Eq(f, 6)"
      ]
     },
     "metadata": {},
     "output_type": "display_data"
    },
    {
     "data": {
      "text/latex": [
       "$\\displaystyle g = x + y + 1$"
      ],
      "text/plain": [
       "Eq(g, x + y + 1)"
      ]
     },
     "metadata": {},
     "output_type": "display_data"
    },
    {
     "data": {
      "text/latex": [
       "$\\displaystyle k = x + 2 y + z + 1$"
      ],
      "text/plain": [
       "Eq(k, x + 2*y + z + 1)"
      ]
     },
     "metadata": {},
     "output_type": "display_data"
    }
   ],
   "source": [
    "\n",
    "from sympy import symbols\n",
    "\n",
    "class Cal:\n",
    "    def __init__(self, **params):\n",
    "        self.a = symbols('a') if 'a' not in params else params['a']\n",
    "        self.b = symbols('b') if 'b' not in params else params['b']\n",
    "        self.c = symbols('c') if 'c' not in params else params['c']\n",
    "        self.d = symbols('d') if 'd' not in params else params['d']\n",
    "\n",
    "    def f(self, x):\n",
    "        exp = self.a  * x+1\n",
    "        return  exp\n",
    "\n",
    "    def g(self, x, y):\n",
    "        exp = self.b * self.f(x) + self.c * y\n",
    "        return exp\n",
    "    \n",
    "    def k(self, x, y, z):\n",
    "        exp =  self.g(x, y)+y+z\n",
    "        return exp\n",
    "\n",
    "# Define symbolic variables\n",
    "#a, b, c, d, x, y, z = symbols('a b c d x y z')\n",
    "\n",
    "# Create an instance of the Cal class\n",
    "\n",
    "cal_instance = Cal(a=a, b=b, c=c, d=d)\n",
    "\n",
    "# Define symbolic expressions for f, g, and k\n",
    "f_expr = cal_instance.f(x)\n",
    "g_expr = cal_instance.g(x, y)\n",
    "k_expr = cal_instance.k(x, y, z)\n",
    "\n",
    "# Print the symbolic expressions\n",
    "display(Eq(symbols('f'),f_expr))\n",
    "display(Eq(symbols('f'), cal_instance.f(x=5)))\n",
    "display(Eq(symbols('g'),g_expr))\n",
    "display(Eq(symbols('k'),k_expr))\n",
    "\n",
    "\n",
    "print(\"___________________________substituting parameters____________________________________\")\n",
    "a=1\n",
    "b=1\n",
    "c=1\n",
    "\n",
    "cal_instance = Cal(a=a, b=b, c=c, d=d)\n",
    "\n",
    "# Define symbolic expressions for f, g, and k\n",
    "f_expr = cal_instance.f(x)\n",
    "g_expr = cal_instance.g(x, y)\n",
    "k_expr = cal_instance.k(x, y, z)\n",
    "\n",
    "# Print the symbolic expressions\n",
    "display(Eq(symbols('f'),f_expr))\n",
    "display(Eq(symbols('f'), cal_instance.f(x=5)))\n",
    "display(Eq(symbols('g'),g_expr))\n",
    "display(Eq(symbols('k'),k_expr))\n"
   ]
  },
  {
   "cell_type": "code",
   "execution_count": null,
   "id": "593bec5a-324d-4359-a75c-ab9657853e44",
   "metadata": {
    "tags": []
   },
   "outputs": [],
   "source": []
  },
  {
   "cell_type": "code",
   "execution_count": null,
   "id": "057e4f8b-7e83-45dd-9a3f-803a8dbcd8c7",
   "metadata": {},
   "outputs": [],
   "source": []
  }
 ],
 "metadata": {
  "hide_input": false,
  "kernelspec": {
   "display_name": "Python 3 (ipykernel)",
   "language": "python",
   "name": "python3"
  },
  "language_info": {
   "codemirror_mode": {
    "name": "ipython",
    "version": 3
   },
   "file_extension": ".py",
   "mimetype": "text/x-python",
   "name": "python",
   "nbconvert_exporter": "python",
   "pygments_lexer": "ipython3",
   "version": "3.10.9"
  }
 },
 "nbformat": 4,
 "nbformat_minor": 5
}
