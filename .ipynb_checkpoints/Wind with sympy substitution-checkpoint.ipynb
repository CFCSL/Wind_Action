{
 "cells": [
  {
   "cell_type": "code",
   "execution_count": 1,
   "id": "b81b6b9a",
   "metadata": {
    "tags": []
   },
   "outputs": [],
   "source": [
    "from sympy import symbols, Eq, Function,UnevaluatedExpr, Mul, Rational, sqrt, Pow\n",
    "from sympy import Piecewise, nan, N, And, log\n",
    "import matplotlib.pyplot as plt\n",
    "\n",
    "ue=UnevaluatedExpr\n",
    "\n",
    "c_dir = symbols('c_dir')#1.0\n",
    "c_season = symbols('c_season')#1.0\n",
    "v_b0 = symbols('v_b0')#27.0  # km/h\n",
    "p = symbols('p')#0.01\n",
    "K = symbols('K')#0.2\n",
    "n = symbols('n')#0.5\n",
    "rho = symbols('rho')#1.25  # kg/m3\n",
    "z=symbols('z')\n",
    "z_max = symbols('z_max')#200.0  # m\n",
    "z_0 = symbols('z_0')#0.003  # m\n",
    "z_min = symbols('z_min')#1.0  # m\n",
    "z_0II = symbols('z_0II')#0.005  # m\n",
    "k_I = symbols('k_I')#1.00\n",
    "A_ref = symbols('A_ref')#800  # m2\n",
    "c_d = symbols('c_d')#1.00\n",
    "c_f = symbols('c_f')#1.55\n",
    "c_0 = symbols('c_0')#1.00\n",
    "v_b=symbols('v_b')\n",
    "k_r=symbols('k_r')\n",
    "c_r=symbols('c_r',cls=Function)(z)\n",
    "z_e, c_pe = symbols('z_e c_pe')\n",
    "z_i, c_p_i = symbols('z_i c_p_i')\n",
    "c_d, c_s,c_f, A_ref = symbols('c_d c_s c_f A_ref')\n",
    "A_fr, c_fr=symbols('A_fr c_fr')\n",
    "F_fr=symbols('F_fr', cls=Function)(z_e) \n",
    "c_s, z_s, B, R, k_p=symbols('c_s z_s B R k_p')\n",
    "c_d=symbols('c_d ')\n",
    "c_sd=symbols('c_sd ')\n",
    "c_prob=symbols('c_prob')\n",
    "v_m=symbols('v_m',cls=Function)(z)\n",
    "q_b=symbols('q_b')\n",
    "sigma_v=symbols('sigma_v')\n",
    "c_e=symbols('c_e', cls=Function)(z)\n",
    "I_v=symbols('I_v',cls=Function)(z)\n",
    "q_p=symbols('q_p', cls=Function)(z)\n",
    "\n",
    "\n",
    "\n",
    "c_dir=UnevaluatedExpr(c_dir)\n",
    "c_season=UnevaluatedExpr(c_season)\n",
    "v_b0=UnevaluatedExpr(v_b0)\n",
    "c_prob=UnevaluatedExpr(c_prob)\n",
    "K=ue(K)\n",
    "p=ue(p)\n",
    "n=ue(n)\n",
    "z_0=UnevaluatedExpr(z_0)\n",
    "z_0II=UnevaluatedExpr(z_0II)\n",
    "rho=UnevaluatedExpr(rho)\n",
    "v_b=UnevaluatedExpr(v_b)\n",
    "k_r=UnevaluatedExpr(k_r)\n",
    "k_I=UnevaluatedExpr(k_I)\n",
    "z=UnevaluatedExpr(z)\n",
    "z_min=UnevaluatedExpr(z_min)\n",
    "z_max=UnevaluatedExpr(z_max)\n",
    "z_0=UnevaluatedExpr(z_0)\n",
    "k_r=UnevaluatedExpr(k_r)\n",
    "z=UnevaluatedExpr(z)\n",
    "c_0=UnevaluatedExpr(c_0)\n",
    "v_b=UnevaluatedExpr(v_b)\n",
    "sigma_v=UnevaluatedExpr(sigma_v)\n",
    "I_v=UnevaluatedExpr(I_v)\n",
    "rho=UnevaluatedExpr(rho)\n",
    "v_m=UnevaluatedExpr(v_m)\n",
    "q_p=UnevaluatedExpr(q_p)\n",
    "q_b=UnevaluatedExpr(q_b)\n",
    "\n",
    "#c_r=UnevaluatedExpr(c_r)\n",
    "\n",
    "\n",
    "\n",
    "def v_b_func(c_season=c_season,**db):\n",
    "    c_season=UnevaluatedExpr(c_season)\n",
    "    db = {eval(key): value for key, value in db.items()}\n",
    "    expr=c_dir * c_season * v_b0\n",
    "    expr=expr.subs(db)\n",
    "    return Eq(v_b, expr, evaluate=False)\n",
    "\n",
    "\n",
    "def c_prob_func(**db):\n",
    "    db = {eval(key): value for key, value in db.items()}\n",
    "    expr=((1 - Mul(K , log(-log(1 - p)),evaluate=False))/ (1 - Mul(K , log(-log(0.98,evaluate=False),evaluate=False),evaluate=False))) **n\n",
    "    expr=expr.subs(db)\n",
    "    return Eq(c_prob,expr, evaluate=False)\n",
    "\n",
    "\n",
    "def k_r_func(**db):\n",
    "    db = {eval(key): value for key, value in db.items()}\n",
    "    expr = 0.19 * (z_0 / z_0II) ** 0.07\n",
    "    expr=expr.subs(db)\n",
    "    return Eq(k_r,expr,evaluate=False)\n",
    "\n",
    "\n",
    "def q_b_func(**db):\n",
    "    db = {eval(key): value for key, value in db.items()}\n",
    "    expr= 0.5 * rho * v_b ** 2  # Fixed operator and added 0.5\n",
    "    expr=expr.subs(db)\n",
    "    return Eq(q_b, expr, evaluate=False)\n",
    "\n",
    "# sigma_v\n",
    "\n",
    "\n",
    "def sigma_v_func(**db):\n",
    "    db = {eval(key): value for key, value in db.items()}\n",
    "    expr = k_r * v_b * k_I\n",
    "    _eq=Eq(sigma_v, expr, evaluate=False).subs(db)\n",
    "    return _eq\n",
    "\n",
    "\n",
    "def c_r_func(**db):\n",
    "    db = {eval(key): value for key, value in db.items()}\n",
    "    condlist = [And(z >= z_min,z <= z_max), z <= z_min]\n",
    "    funclist = [Mul(k_r, log(N(z / z_0,2), evaluate=False),evaluate=False), Mul(k_r, log(z_min / z_0, evaluate=False),evaluate=False)]\n",
    "    expr = Piecewise(*zip(funclist,condlist))\n",
    "    expr=expr.subs(db)\n",
    "    return Eq(c_r, expr, evaluate=False)\n",
    "\n",
    "\n",
    "def v_m_func(**db):\n",
    "    db = {eval(key): value for key, value in db.items()}\n",
    "    expr = c_r * c_0 * v_b\n",
    "    # Apply eval() to all keys\n",
    "    expr=expr.subs(db)\n",
    "    return Eq(v_m, expr, evaluate=False)\n",
    "\n",
    "\n",
    "\n",
    "def I_v_func(**db):\n",
    "    db = {eval(key): value for key, value in db.items()}\n",
    "    condlist = [And(z >= z_min,z <= z_max), z <= z_min]\n",
    "    funclist = [sigma_v / v_m,  sigma_v / v_m.subs(z, z_min)]\n",
    "    #funclist = [k_I/(c_0*log(z/z_0)),k_I/(c_0*log(z_min/z_0)) ]\n",
    "    expr = Piecewise(*zip(funclist, condlist))\n",
    "    expr=expr.subs(db)\n",
    "    return Eq(I_v, expr, evaluate=False)\n",
    "\n",
    "\n",
    "\n",
    "def q_p_func(**db):\n",
    "    db = {eval(key): value for key, value in db.items()}\n",
    "    expr = (1 + 7 * I_v) * 0.5 * rho * v_m ** 2  # Fixed operator and added 0.5\n",
    "    expr=expr.subs(db)\n",
    "    return Eq(q_p, expr, evaluate=False)\n",
    "\n",
    "\n",
    "def c_e_func(**db):\n",
    "    db = {eval(key): value for key, value in db.items()}\n",
    "    expr = q_p / q_b\n",
    "    expr=expr.subs(db)\n",
    "    return Eq(c_e, expr,evaluate=False)\n",
    "\n",
    "db={}\n",
    "db={'v_b0':27,'c_season':1,'c_0':1,'c_dir':1,'K':0.2,'n':0.5,'p':0.7,'z_0II':0.05,'z_max':200,\n",
    "   'z_0':0.05,'z_min':2}\n",
    "#db={}"
   ]
  },
  {
   "cell_type": "code",
   "execution_count": 2,
   "id": "80c21922",
   "metadata": {
    "tags": []
   },
   "outputs": [
    {
     "data": {
      "text/latex": [
       "$\\displaystyle v_{b} = c_{dir} c_{season} v_{b0}$"
      ],
      "text/plain": [
       "Eq(v_b, c_dir*c_season*v_b0)"
      ]
     },
     "metadata": {},
     "output_type": "display_data"
    },
    {
     "data": {
      "text/latex": [
       "$\\displaystyle v_{b} = 27 \\cdot 1$"
      ],
      "text/plain": [
       "Eq(v_b, 27*1)"
      ]
     },
     "metadata": {},
     "output_type": "display_data"
    },
    {
     "data": {
      "text/latex": [
       "$\\displaystyle v_{b} = 27$"
      ],
      "text/plain": [
       "Eq(v_b, 27)"
      ]
     },
     "metadata": {},
     "output_type": "display_data"
    },
    {
     "data": {
      "text/latex": [
       "$\\displaystyle 27$"
      ],
      "text/plain": [
       "27"
      ]
     },
     "metadata": {},
     "output_type": "display_data"
    }
   ],
   "source": [
    "display(v_b_func())\n",
    "display(v_b_func(**db))\n",
    "display(v_b_func(**db).doit())\n",
    "db['v_b']=v_b_func(**db).doit().rhs\n",
    "display(db['v_b'])\n",
    "#display(db)"
   ]
  },
  {
   "cell_type": "code",
   "execution_count": 3,
   "id": "da6758ee",
   "metadata": {
    "tags": []
   },
   "outputs": [
    {
     "data": {
      "text/latex": [
       "$\\displaystyle c_{prob} = \\left(\\left(1 - K \\log{\\left(- \\log{\\left(1 - p \\right)} \\right)}\\right) \\left(1 - K \\log{\\left(- \\log{\\left(0.98 \\right)} \\right)}\\right)^{-1}\\right)^{n}$"
      ],
      "text/plain": [
       "Eq(c_prob, ((1 - K*log(-log(1 - p)))*(1 - K*log(-log(0.98)))**(-1))**n)"
      ]
     },
     "metadata": {},
     "output_type": "display_data"
    },
    {
     "data": {
      "text/latex": [
       "$\\displaystyle c_{prob} = \\frac{0.981261763357529}{\\left(1 - 0.2 \\log{\\left(- \\log{\\left(0.98 \\right)} \\right)}\\right)^{0.5}}$"
      ],
      "text/plain": [
       "Eq(c_prob, 0.981261763357529/(1 - 0.2*log(-log(0.98)))**0.5)"
      ]
     },
     "metadata": {},
     "output_type": "display_data"
    },
    {
     "data": {
      "text/latex": [
       "$\\displaystyle c_{prob} = 0.735406695578229$"
      ],
      "text/plain": [
       "Eq(c_prob, 0.735406695578229)"
      ]
     },
     "metadata": {},
     "output_type": "display_data"
    }
   ],
   "source": [
    "display(c_prob_func())\n",
    "display(c_prob_func(**db))\n",
    "display(c_prob_func(**db).doit())\n",
    "db['c_prob']=c_prob_func(**db).doit().rhs\n",
    "#display(db)"
   ]
  },
  {
   "cell_type": "code",
   "execution_count": 4,
   "id": "fb721d6c",
   "metadata": {
    "tags": []
   },
   "outputs": [
    {
     "data": {
      "text/latex": [
       "$\\displaystyle k_{r} = 0.19 \\left(z_{0} z_{0II}^{-1}\\right)^{0.07}$"
      ],
      "text/plain": [
       "Eq(k_r, 0.19*(z_0*z_0II**(-1))**0.07)"
      ]
     },
     "metadata": {},
     "output_type": "display_data"
    },
    {
     "data": {
      "text/latex": [
       "$\\displaystyle k_{r} = 0.19$"
      ],
      "text/plain": [
       "Eq(k_r, 0.19)"
      ]
     },
     "metadata": {},
     "output_type": "display_data"
    }
   ],
   "source": [
    "display(k_r_func())\n",
    "display(k_r_func(**db))\n",
    "#display(k_r_func(**db).doit())\n",
    "#db['k_r']=k_r_func(**db).doit().rhs\n",
    "#display(db)"
   ]
  },
  {
   "cell_type": "code",
   "execution_count": 5,
   "id": "7ac22380",
   "metadata": {
    "tags": []
   },
   "outputs": [
    {
     "data": {
      "text/latex": [
       "$\\displaystyle \\sigma_{v} = k_{r} v_{b} k_{I}$"
      ],
      "text/plain": [
       "Eq(sigma_v, k_r*v_b*k_I)"
      ]
     },
     "metadata": {},
     "output_type": "display_data"
    },
    {
     "data": {
      "text/latex": [
       "$\\displaystyle \\sigma_{v} = 27 k_{r} k_{I}$"
      ],
      "text/plain": [
       "Eq(sigma_v, 27*k_r*k_I)"
      ]
     },
     "metadata": {},
     "output_type": "display_data"
    },
    {
     "data": {
      "text/latex": [
       "$\\displaystyle \\sigma_{v} = 27 k_{I} k_{r}$"
      ],
      "text/plain": [
       "Eq(sigma_v, 27*k_I*k_r)"
      ]
     },
     "metadata": {},
     "output_type": "display_data"
    },
    {
     "data": {
      "text/plain": [
       "{'v_b0': 27,\n",
       " 'c_season': 1,\n",
       " 'c_0': 1,\n",
       " 'c_dir': 1,\n",
       " 'K': 0.2,\n",
       " 'n': 0.5,\n",
       " 'p': 0.7,\n",
       " 'z_0II': 0.05,\n",
       " 'z_max': 200,\n",
       " 'z_0': 0.05,\n",
       " 'z_min': 2,\n",
       " 'v_b': 27,\n",
       " 'c_prob': 0.735406695578229,\n",
       " 'sigma_v': 27*k_I*k_r}"
      ]
     },
     "metadata": {},
     "output_type": "display_data"
    }
   ],
   "source": [
    "display(sigma_v_func())\n",
    "display(sigma_v_func(**db))\n",
    "display(sigma_v_func(**db).doit())\n",
    "db['sigma_v']=sigma_v_func(**db).doit().rhs\n",
    "display(db)"
   ]
  },
  {
   "cell_type": "code",
   "execution_count": 6,
   "id": "86781c84",
   "metadata": {
    "tags": []
   },
   "outputs": [
    {
     "data": {
      "text/latex": [
       "$\\displaystyle c_{r}{\\left(z \\right)} = \\begin{cases} k_{r} \\log{\\left(z z_{0}^{-1} \\right)} & \\text{for}\\: z_{max} \\geq z \\wedge z_{min} \\leq z \\\\k_{r} \\log{\\left(z_{min} z_{0}^{-1} \\right)} & \\text{for}\\: z_{min} \\geq z \\end{cases}$"
      ],
      "text/plain": [
       "Eq(c_r(z), Piecewise((k_r*log(z*z_0**(-1)), (z_max >= z) & (z_min <= z)), (k_r*log(z_min*z_0**(-1)), z_min >= z)))"
      ]
     },
     "metadata": {},
     "output_type": "display_data"
    },
    {
     "data": {
      "text/latex": [
       "$\\displaystyle c_{r}{\\left(z \\right)} = \\begin{cases} k_{r} \\log{\\left(20.0 z \\right)} & \\text{for}\\: z \\geq 2 \\wedge z \\leq 200 \\\\3.68887945411394 k_{r} & \\text{for}\\: z \\leq 2 \\end{cases}$"
      ],
      "text/plain": [
       "Eq(c_r(z), Piecewise((k_r*log(20.0*z), (z >= 2) & (z <= 200)), (3.68887945411394*k_r, z <= 2)))"
      ]
     },
     "metadata": {},
     "output_type": "display_data"
    },
    {
     "data": {
      "text/latex": [
       "$\\displaystyle c_{r}{\\left(z \\right)} = \\begin{cases} k_{r} \\log{\\left(20.0 z \\right)} & \\text{for}\\: z \\geq 2 \\wedge z \\leq 200 \\\\3.68887945411394 k_{r} & \\text{for}\\: z \\leq 2 \\end{cases}$"
      ],
      "text/plain": [
       "Eq(c_r(z), Piecewise((k_r*log(20.0*z), (z >= 2) & (z <= 200)), (3.68887945411394*k_r, z <= 2)))"
      ]
     },
     "metadata": {},
     "output_type": "display_data"
    },
    {
     "data": {
      "text/latex": [
       "$\\displaystyle c_{r}{\\left(z \\right)} = \\begin{cases} k_{r} \\log{\\left(20.0 z \\right)} & \\text{for}\\: z \\geq 2 \\wedge z \\leq 200 \\\\3.68887945411394 k_{r} & \\text{for}\\: z \\leq 2 \\end{cases}$"
      ],
      "text/plain": [
       "Eq(c_r(z), Piecewise((k_r*log(20.0*z), (z >= 2) & (z <= 200)), (3.68887945411394*k_r, z <= 2)))"
      ]
     },
     "metadata": {},
     "output_type": "display_data"
    },
    {
     "data": {
      "text/latex": [
       "$\\displaystyle c_{r}{\\left(z \\right)} = 6.39692965521615 k_{r}$"
      ],
      "text/plain": [
       "Eq(c_r(z), 6.39692965521615*k_r)"
      ]
     },
     "metadata": {},
     "output_type": "display_data"
    }
   ],
   "source": [
    "display(c_r_func())\n",
    "display(c_r_func(**db))\n",
    "display(c_r_func(**db).doit())\n",
    "display(c_r_func(**db).doit())\n",
    "z0=30\n",
    "display(c_r_func(**db).subs(z,z0).doit())\n",
    "#display(db)"
   ]
  },
  {
   "cell_type": "code",
   "execution_count": 7,
   "id": "6e8a1175",
   "metadata": {
    "tags": []
   },
   "outputs": [
    {
     "data": {
      "text/latex": [
       "$\\displaystyle v_{m}{\\left(z \\right)} = c_{r}{\\left(z \\right)} c_{0} v_{b}$"
      ],
      "text/plain": [
       "Eq(v_m(z), c_r(z)*c_0*v_b)"
      ]
     },
     "metadata": {},
     "output_type": "display_data"
    },
    {
     "data": {
      "text/latex": [
       "$\\displaystyle v_{m}{\\left(z \\right)} = 27 c_{r}{\\left(z \\right)}$"
      ],
      "text/plain": [
       "Eq(v_m(z), 27*c_r(z))"
      ]
     },
     "metadata": {},
     "output_type": "display_data"
    },
    {
     "data": {
      "text/latex": [
       "$\\displaystyle v_{m}{\\left(z \\right)} = 27 c_{r}{\\left(z \\right)}$"
      ],
      "text/plain": [
       "Eq(v_m(z), 27*c_r(z))"
      ]
     },
     "metadata": {},
     "output_type": "display_data"
    },
    {
     "data": {
      "text/plain": [
       "{'v_b0': 27,\n",
       " 'c_season': 1,\n",
       " 'c_0': 1,\n",
       " 'c_dir': 1,\n",
       " 'K': 0.2,\n",
       " 'n': 0.5,\n",
       " 'p': 0.7,\n",
       " 'z_0II': 0.05,\n",
       " 'z_max': 200,\n",
       " 'z_0': 0.05,\n",
       " 'z_min': 2,\n",
       " 'v_b': 27,\n",
       " 'c_prob': 0.735406695578229,\n",
       " 'sigma_v': 27*k_I*k_r,\n",
       " 'v_m': 27*c_r(z)}"
      ]
     },
     "metadata": {},
     "output_type": "display_data"
    }
   ],
   "source": [
    "display(v_m_func())\n",
    "display(v_m_func(**db))\n",
    "display(v_m_func(**db).doit())\n",
    "db['v_m']=v_m_func(**db).doit().rhs\n",
    "display(db)"
   ]
  },
  {
   "cell_type": "code",
   "execution_count": 8,
   "id": "d232196f",
   "metadata": {
    "tags": []
   },
   "outputs": [
    {
     "data": {
      "text/latex": [
       "$\\displaystyle 27 c_{r}{\\left(5 \\right)}$"
      ],
      "text/plain": [
       "27*c_r(5)"
      ]
     },
     "execution_count": 8,
     "metadata": {},
     "output_type": "execute_result"
    }
   ],
   "source": [
    "db['v_m'].subs('z',5)\n",
    "db['v_m'].subs('z',5).doit()"
   ]
  },
  {
   "cell_type": "code",
   "execution_count": 9,
   "id": "a7a48861-3113-412c-bd14-af3d93bea3cb",
   "metadata": {
    "tags": []
   },
   "outputs": [
    {
     "data": {
      "text/plain": [
       "{'v_b0': 27,\n",
       " 'c_season': 1,\n",
       " 'c_0': 1,\n",
       " 'c_dir': 1,\n",
       " 'K': 0.2,\n",
       " 'n': 0.5,\n",
       " 'p': 0.7,\n",
       " 'z_0II': 0.05,\n",
       " 'z_max': 200,\n",
       " 'z_0': 0.05,\n",
       " 'z_min': 2,\n",
       " 'v_b': 27,\n",
       " 'c_prob': 0.735406695578229,\n",
       " 'sigma_v': 27*k_I*k_r,\n",
       " 'v_m': 27*c_r(z)}"
      ]
     },
     "metadata": {},
     "output_type": "display_data"
    }
   ],
   "source": [
    "display(db)"
   ]
  },
  {
   "cell_type": "code",
   "execution_count": 84,
   "id": "e3385ea8",
   "metadata": {},
   "outputs": [
    {
     "data": {
      "text/latex": [
       "$\\displaystyle v_{m}{\\left(z \\right)} = 5 c_{0} v_{b}$"
      ],
      "text/plain": [
       "Eq(v_m(z), 5*c_0*v_b)"
      ]
     },
     "execution_count": 84,
     "metadata": {},
     "output_type": "execute_result"
    }
   ],
   "source": [
    "v_m_func().subs(c_r,5)"
   ]
  },
  {
   "cell_type": "code",
   "execution_count": 85,
   "id": "4b227183",
   "metadata": {},
   "outputs": [
    {
     "data": {
      "text/plain": [
       "[18.9239515996045,\n",
       " 18.9239515996045,\n",
       " 21.0039876041994,\n",
       " 22.4797966358770,\n",
       " 23.6245230541189,\n",
       " 24.5598326404719,\n",
       " 25.3506256279857,\n",
       " 26.0356416721495,\n",
       " 26.6398686450668]"
      ]
     },
     "execution_count": 85,
     "metadata": {},
     "output_type": "execute_result"
    }
   ],
   "source": [
    "z_values = range(1, 10)\n",
    "results = [db['v_m'].subs('z', value) for value in z_values]\n",
    "results"
   ]
  },
  {
   "cell_type": "code",
   "execution_count": 88,
   "id": "4babcfa8",
   "metadata": {},
   "outputs": [
    {
     "data": {
      "text/plain": [
       "[<matplotlib.lines.Line2D at 0x1eae464a610>]"
      ]
     },
     "execution_count": 88,
     "metadata": {},
     "output_type": "execute_result"
    },
    {
     "data": {
      "image/png": "[encoded data removed]",
      "text/plain": [
       "<Figure size 640x480 with 1 Axes>"
      ]
     },
     "metadata": {},
     "output_type": "display_data"
    }
   ],
   "source": [
    "plt.plot(results,z_values)"
   ]
  },
  {
   "cell_type": "code",
   "execution_count": 39,
   "id": "cb62ef13",
   "metadata": {},
   "outputs": [
    {
     "data": {
      "text/plain": [
       "{'v_b0': 27,\n",
       " 'c_season': 1,\n",
       " 'c_0': 1,\n",
       " 'c_dir': 1,\n",
       " 'K': 0.2,\n",
       " 'n': 0.5,\n",
       " 'p': 0.7,\n",
       " 'z_0II': 0.05,\n",
       " 'z_max': 200,\n",
       " 'z_0': 0.05,\n",
       " 'z_min': 2,\n",
       " 'v_b': 27,\n",
       " 'c_prob': 0.735406695578229,\n",
       " 'k_r': 0.190000000000000,\n",
       " 'sigma_v': 5.13*k_I,\n",
       " 'c_r': Piecewise((0.19*log(20.0*z), (z >= 2) & (z <= 200)), (0.700887096281648, z <= 2))}"
      ]
     },
     "metadata": {},
     "output_type": "display_data"
    }
   ],
   "source": [
    "display(db)"
   ]
  },
  {
   "cell_type": "code",
   "execution_count": 67,
   "id": "7f34adb5",
   "metadata": {},
   "outputs": [
    {
     "data": {
      "text/latex": [
       "$\\displaystyle 27$"
      ],
      "text/plain": [
       "27"
      ]
     },
     "execution_count": 67,
     "metadata": {},
     "output_type": "execute_result"
    }
   ],
   "source": [
    "db['v_b']"
   ]
  }
 ],
 "metadata": {
  "hide_input": false,
  "kernelspec": {
   "display_name": "Python 3 (ipykernel)",
   "language": "python",
   "name": "python3"
  },
  "language_info": {
   "codemirror_mode": {
    "name": "ipython",
    "version": 3
   },
   "file_extension": ".py",
   "mimetype": "text/x-python",
   "name": "python",
   "nbconvert_exporter": "python",
   "pygments_lexer": "ipython3",
   "version": "3.10.9"
  }
 },
 "nbformat": 4,
 "nbformat_minor": 5
}
