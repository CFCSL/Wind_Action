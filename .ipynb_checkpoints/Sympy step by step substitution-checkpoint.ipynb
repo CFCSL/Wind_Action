{
 "cells": [
  {
   "cell_type": "markdown",
   "id": "4a480965",
   "metadata": {},
   "source": [
    "# Step by step substitution using sympy"
   ]
  },
  {
   "cell_type": "markdown",
   "id": "c9002067",
   "metadata": {},
   "source": [
    "## Solution 1 : subs"
   ]
  },
  {
   "cell_type": "code",
   "execution_count": 3,
   "id": "1418da98",
   "metadata": {},
   "outputs": [
    {
     "data": {
      "text/latex": [
       "$\\displaystyle x^{2} + 2 x + 1$"
      ],
      "text/plain": [
       "x**2 + 2*x + 1"
      ]
     },
     "metadata": {},
     "output_type": "display_data"
    },
    {
     "data": {
      "text/latex": [
       "$\\displaystyle 1 + 2 \\cdot 3 + 3^{2}$"
      ],
      "text/plain": [
       "1 + 2*3 + 3**2"
      ]
     },
     "metadata": {},
     "output_type": "display_data"
    },
    {
     "data": {
      "text/latex": [
       "$\\displaystyle 16$"
      ],
      "text/plain": [
       "16"
      ]
     },
     "metadata": {},
     "output_type": "display_data"
    }
   ],
   "source": [
    "from sympy import symbols, UnevaluatedExpr\n",
    "\n",
    "# Define the symbol\n",
    "x = symbols('x')\n",
    "\n",
    "# Define the expression\n",
    "expression = x**2 + 2*x + 1\n",
    "\n",
    "# Display the replaced expression\n",
    "display(expression)\n",
    "\n",
    "# Replace numbers in the expression (unevaluated format)\n",
    "replaced_expression = expression.subs({x: UnevaluatedExpr(3)})\n",
    "\n",
    "# Display the replaced expression\n",
    "display(replaced_expression)\n",
    "display(replaced_expression.doit())"
   ]
  },
  {
   "cell_type": "markdown",
   "id": "3eae86d9",
   "metadata": {},
   "source": [
    "## Solution 2 : Functions"
   ]
  },
  {
   "cell_type": "code",
   "execution_count": 6,
   "id": "11ccc9a9",
   "metadata": {},
   "outputs": [
    {
     "data": {
      "text/latex": [
       "$\\displaystyle f{\\left(x \\right)} = 1 + 2 x + x^{2}$"
      ],
      "text/plain": [
       "Eq(f(x), 1 + 2*x + x**2)"
      ]
     },
     "metadata": {},
     "output_type": "display_data"
    },
    {
     "data": {
      "text/latex": [
       "$\\displaystyle f{\\left(x \\right)} = 1 + 2 \\cdot 3 + 3^{2}$"
      ],
      "text/plain": [
       "Eq(f(x), 1 + 2*3 + 3**2)"
      ]
     },
     "metadata": {},
     "output_type": "display_data"
    },
    {
     "data": {
      "text/latex": [
       "$\\displaystyle f{\\left(x \\right)} = 16$"
      ],
      "text/plain": [
       "Eq(f(x), 16)"
      ]
     },
     "metadata": {},
     "output_type": "display_data"
    }
   ],
   "source": [
    "from sympy import symbols, UnevaluatedExpr,Eq, Function\n",
    "x=symbols('x')\n",
    "f=symbols('f',cls=Function)(x)\n",
    "\n",
    "# Define the function\n",
    "def my_function(x=x):\n",
    "    # Make x an UnevaluatedExpr\n",
    "    x=UnevaluatedExpr(x)\n",
    "\n",
    "    return Eq(f,x**2+2*x+1)\n",
    "\n",
    "# Test the function\n",
    "display(my_function())\n",
    "display(my_function(x=3))\n",
    "display(my_function(x=3).doit())\n"
   ]
  },
  {
   "cell_type": "code",
   "execution_count": null,
   "id": "ed598a47",
   "metadata": {},
   "outputs": [],
   "source": []
  },
  {
   "cell_type": "code",
   "execution_count": null,
   "id": "121b4fa0",
   "metadata": {},
   "outputs": [],
   "source": []
  }
 ],
 "metadata": {
  "hide_input": false,
  "kernelspec": {
   "display_name": "Python 3 (ipykernel)",
   "language": "python",
   "name": "python3"
  },
  "language_info": {
   "codemirror_mode": {
    "name": "ipython",
    "version": 3
   },
   "file_extension": ".py",
   "mimetype": "text/x-python",
   "name": "python",
   "nbconvert_exporter": "python",
   "pygments_lexer": "ipython3",
   "version": "3.9.16"
  }
 },
 "nbformat": 4,
 "nbformat_minor": 5
}
