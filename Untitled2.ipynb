{
 "cells": [
  {
   "cell_type": "code",
   "execution_count": 26,
   "id": "5ab8020d-2a75-4cb9-a632-c6259041ecdb",
   "metadata": {
    "tags": []
   },
   "outputs": [
    {
     "data": {
      "text/latex": [
       "$\\displaystyle g{\\left(x \\right)} = d x^{3}$"
      ],
      "text/plain": [
       "Eq(g(x), d*x**3)"
      ]
     },
     "metadata": {},
     "output_type": "display_data"
    },
    {
     "name": "stdout",
     "output_type": "stream",
     "text": [
      "g(x) + a*x**2 + b*x + c\n"
     ]
    },
    {
     "data": {
      "text/latex": [
       "$\\displaystyle f{\\left(x \\right)} = g{\\left(x \\right)} + a x^{2} + b x + c$"
      ],
      "text/plain": [
       "Eq(f(x), g(x) + a*x**2 + b*x + c)"
      ]
     },
     "metadata": {},
     "output_type": "display_data"
    },
    {
     "data": {
      "text/latex": [
       "$\\displaystyle \\text{True}$"
      ],
      "text/plain": [
       "True"
      ]
     },
     "metadata": {},
     "output_type": "display_data"
    }
   ],
   "source": [
    "\n",
    "import streamlit as st\n",
    "from sympy import symbols, Eq, Function,UnevaluatedExpr, Mul, Rational, sqrt, Pow\n",
    "from sympy import *#Piecewise, nan, N, And, log\n",
    "import matplotlib.pyplot as plt\n",
    "\n",
    "\n",
    "\n",
    "a,b,c,d, x =symbols('a b c d x')\n",
    "\n",
    "\n",
    "a=UnevaluatedExpr(a)\n",
    "b=UnevaluatedExpr(b)\n",
    "c=UnevaluatedExpr(c)\n",
    "d=UnevaluatedExpr(d)\n",
    "x=UnevaluatedExpr(x)\n",
    "\n",
    "g= symbols('g', cls=Function)(x)\n",
    "f= symbols('f', cls=Function)(x)\n",
    "\n",
    "def g_func(**db):\n",
    "\tdb = {eval(key): value for key, value in db.items()}\n",
    "\texpr= d*x**3\n",
    "\texpr= expr.subs(db)\n",
    "\treturn Eq(g, expr, evaluate= False)\n",
    "\n",
    "def f_func(**db):\n",
    "\tdb = {eval(key): value for key, value in db.items()}\n",
    "\texpr= g+a*x**2+b*x+c\n",
    "\tprint(expr)\n",
    "\texpr= expr.subs(db)\n",
    "\treturn Eq(f, expr, evaluate= False)\n",
    "\n",
    "\n",
    "\n",
    "\n",
    "\n",
    "db={}\n",
    "db={'a':1, 'b':2,'c':3, 'd':4,'g':g_func().rhs}\n",
    "\n",
    "#st.latex(latex(f_func()))\n",
    "\n",
    "#db={'a':1, 'b':2,'c':3}\n",
    "#display(latex(g_func()))\n",
    "display(g_func())\n",
    "display(f_func())\n",
    "db = {eval(key): value for key, value in db.items()}\n",
    "display(g_func().subs(db,evaluate=False))\n"
   ]
  },
  {
   "cell_type": "code",
   "execution_count": 22,
   "id": "bde93c3f-3ca1-4f54-8b78-48d00c722d73",
   "metadata": {
    "tags": []
   },
   "outputs": [
    {
     "data": {
      "text/latex": [
       "$\\displaystyle 1 = 2$"
      ],
      "text/plain": [
       "Eq(1, 2)"
      ]
     },
     "execution_count": 22,
     "metadata": {},
     "output_type": "execute_result"
    }
   ],
   "source": [
    "Eq(1,2,evaluate=False)"
   ]
  },
  {
   "cell_type": "code",
   "execution_count": null,
   "id": "c131f496-ee91-4abd-9931-575b31dd3966",
   "metadata": {},
   "outputs": [],
   "source": []
  }
 ],
 "metadata": {
  "kernelspec": {
   "display_name": "Python 3 (ipykernel)",
   "language": "python",
   "name": "python3"
  },
  "language_info": {
   "codemirror_mode": {
    "name": "ipython",
    "version": 3
   },
   "file_extension": ".py",
   "mimetype": "text/x-python",
   "name": "python",
   "nbconvert_exporter": "python",
   "pygments_lexer": "ipython3",
   "version": "3.10.9"
  }
 },
 "nbformat": 4,
 "nbformat_minor": 5
}
