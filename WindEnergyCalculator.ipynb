{
 "cells": [
  {
   "cell_type": "code",
   "execution_count": 1,
   "id": "0661f2db-5d4b-404f-9c8a-dbffbce9744b",
   "metadata": {
    "tags": []
   },
   "outputs": [
    {
     "ename": "ValueError",
     "evalue": "too many values to unpack (expected 20)",
     "output_type": "error",
     "traceback": [
      "\u001b[1;31m---------------------------------------------------------------------------\u001b[0m",
      "\u001b[1;31mValueError\u001b[0m                                Traceback (most recent call last)",
      "Cell \u001b[1;32mIn[1], line 75\u001b[0m\n\u001b[0;32m     73\u001b[0m \u001b[38;5;66;03m# Example usage\u001b[39;00m\n\u001b[0;32m     74\u001b[0m params \u001b[38;5;241m=\u001b[39m (\u001b[38;5;241m0.5\u001b[39m, \u001b[38;5;241m0.8\u001b[39m, \u001b[38;5;241m10\u001b[39m, \u001b[38;5;241m0.2\u001b[39m, \u001b[38;5;241m1.5\u001b[39m, \u001b[38;5;241m4\u001b[39m, \u001b[38;5;241m1.225\u001b[39m, \u001b[38;5;241m100\u001b[39m, \u001b[38;5;241m0.01\u001b[39m, \u001b[38;5;241m0.005\u001b[39m, \u001b[38;5;241m0.005\u001b[39m, \u001b[38;5;241m0.05\u001b[39m, \u001b[38;5;241m1000\u001b[39m, \u001b[38;5;241m1.0\u001b[39m, \u001b[38;5;241m1.0\u001b[39m, \u001b[38;5;241m1.0\u001b[39m, \u001b[38;5;241m1.0\u001b[39m, \u001b[38;5;241m1.0\u001b[39m, \u001b[38;5;241m1.0\u001b[39m, \u001b[38;5;241m1.0\u001b[39m, \u001b[38;5;241m1.0\u001b[39m, \u001b[38;5;241m100\u001b[39m, \u001b[38;5;241m1.0\u001b[39m)\n\u001b[1;32m---> 75\u001b[0m wind_calculator \u001b[38;5;241m=\u001b[39m \u001b[43mWindEnergyCalculator\u001b[49m\u001b[43m(\u001b[49m\u001b[43mparams\u001b[49m\u001b[43m)\u001b[49m\n\u001b[0;32m     77\u001b[0m \u001b[38;5;66;03m# Example usage of functions\u001b[39;00m\n\u001b[0;32m     78\u001b[0m z_value \u001b[38;5;241m=\u001b[39m \u001b[38;5;241m50\u001b[39m\n",
      "Cell \u001b[1;32mIn[1], line 5\u001b[0m, in \u001b[0;36mWindEnergyCalculator.__init__\u001b[1;34m(self, params)\u001b[0m\n\u001b[0;32m      4\u001b[0m \u001b[38;5;28;01mdef\u001b[39;00m \u001b[38;5;21m__init__\u001b[39m(\u001b[38;5;28mself\u001b[39m, params):\n\u001b[1;32m----> 5\u001b[0m     \u001b[38;5;28mself\u001b[39m\u001b[38;5;241m.\u001b[39mc_dir, \u001b[38;5;28mself\u001b[39m\u001b[38;5;241m.\u001b[39mc_season, \u001b[38;5;28mself\u001b[39m\u001b[38;5;241m.\u001b[39mv_b0, \u001b[38;5;28mself\u001b[39m\u001b[38;5;241m.\u001b[39mp, \u001b[38;5;28mself\u001b[39m\u001b[38;5;241m.\u001b[39mK, \u001b[38;5;28mself\u001b[39m\u001b[38;5;241m.\u001b[39mn, \u001b[38;5;28mself\u001b[39m\u001b[38;5;241m.\u001b[39mrho, \\\n\u001b[0;32m      6\u001b[0m     \u001b[38;5;28mself\u001b[39m\u001b[38;5;241m.\u001b[39mz_max, \u001b[38;5;28mself\u001b[39m\u001b[38;5;241m.\u001b[39mz_0, \u001b[38;5;28mself\u001b[39m\u001b[38;5;241m.\u001b[39mz_min, \u001b[38;5;28mself\u001b[39m\u001b[38;5;241m.\u001b[39mz_0II, \u001b[38;5;28mself\u001b[39m\u001b[38;5;241m.\u001b[39mk_I, \u001b[38;5;28mself\u001b[39m\u001b[38;5;241m.\u001b[39mA_ref, \\\n\u001b[0;32m      7\u001b[0m     \u001b[38;5;28mself\u001b[39m\u001b[38;5;241m.\u001b[39mc_d, \u001b[38;5;28mself\u001b[39m\u001b[38;5;241m.\u001b[39mc_f, \u001b[38;5;28mself\u001b[39m\u001b[38;5;241m.\u001b[39mc_0, \u001b[38;5;28mself\u001b[39m\u001b[38;5;241m.\u001b[39mc_pe, \u001b[38;5;28mself\u001b[39m\u001b[38;5;241m.\u001b[39mc_pi, \u001b[38;5;28mself\u001b[39m\u001b[38;5;241m.\u001b[39mc_fr, \u001b[38;5;28mself\u001b[39m\u001b[38;5;241m.\u001b[39mA_fr \u001b[38;5;241m=\u001b[39m params\n",
      "\u001b[1;31mValueError\u001b[0m: too many values to unpack (expected 20)"
     ]
    }
   ],
   "source": [
    "import numpy as np\n",
    "\n",
    "class WindEnergyCalculator:\n",
    "    def __init__(self, params):\n",
    "        self.c_dir, self.c_season, self.v_b0, self.p, self.K, self.n, self.rho, \\\n",
    "        self.z_max, self.z_0, self.z_min, self.z_0II, self.k_I, self.A_ref, \\\n",
    "        self.c_d, self.c_f, self.c_0, self.c_pe, self.c_pi, self.c_fr, self.A_fr = params\n",
    "\n",
    "    def v_b(self):\n",
    "        exp = self.c_dir * self.c_season * self.v_b0\n",
    "        return exp\n",
    "\n",
    "    def c_prob(self):\n",
    "        exp = ((1 - self.K * np.log(-np.log(1 - self.p))) / (1 - self.K * np.log(-np.log(0.98)))) ** self.n\n",
    "        return exp\n",
    "\n",
    "    def k_r(self):\n",
    "        exp = 0.19 * (self.z_0 / self.z_0II) ** 0.07\n",
    "        return exp\n",
    "\n",
    "    def q_b(self):\n",
    "        exp = 0.5 * self.rho * self.v_b() ** 2\n",
    "        return exp\n",
    "\n",
    "    def sigma_v(self):\n",
    "        exp = self.k_r() * self.v_b() * self.k_I\n",
    "        return exp\n",
    "\n",
    "    def c_r(self, z):\n",
    "        condlist = [np.logical_and(z >= self.z_min, z <= self.z_max), z <= self.z_min]\n",
    "        funclist = [self.k_r() * np.log(z / self.z_0), self.k_r() * np.log(self.z_min / self.z_0)]\n",
    "        if z != 0 and self.z_min != 0 and self.z_0 != 0:\n",
    "            funclist = [self.k_r() * np.log(z / self.z_0), self.k_r() * np.log(self.z_min / self.z_0)]\n",
    "        else:\n",
    "            pass\n",
    "        exp = np.piecewise(z, condlist, funclist)\n",
    "        return exp\n",
    "\n",
    "    def v_m(self, z):\n",
    "        exp = self.c_r(z) * self.c_0 * self.v_b()\n",
    "        return exp\n",
    "\n",
    "    def I_v(self, z):\n",
    "        condlist = [z >= self.z_min, z <= self.z_min]\n",
    "        funclist = [self.sigma_v() / self.v_m(z), self.sigma_v() / self.v_m(self.z_min)]\n",
    "        exp = np.piecewise(z, condlist, funclist)\n",
    "        return exp\n",
    "\n",
    "    def q_p(self, z):\n",
    "        exp = (1 + 7 * self.I_v(z)) * 0.5 * self.rho * self.v_m(z) ** 2\n",
    "        return exp\n",
    "\n",
    "    def c_ez(self, z):\n",
    "        val = self.q_p(z) / self.q_b()\n",
    "        return val\n",
    "\n",
    "    def W_e(self, z):\n",
    "        exp = self.q_p(z) * self.c_pe\n",
    "        return exp\n",
    "\n",
    "    def W_i(self, z):\n",
    "        exp = self.q_p(z) * self.c_pi\n",
    "        return exp\n",
    "\n",
    "    def F_w(self, z):\n",
    "        exp = self.c_fr * self.c_d * self.c_f * self.q_p(z) * self.A_ref\n",
    "        return exp\n",
    "\n",
    "    def F_fr(self, z):\n",
    "        exp = self.c_fr * self.q_p(z) * self.A_fr\n",
    "        return exp\n",
    "\n",
    "# Example usage\n",
    "params = (0.5, 0.8, 10, 0.2, 1.5, 4, 1.225, 100, 0.01, 0.005, 0.005, 0.05, 1000, 1.0, 1.0, 1.0, 1.0, 1.0, 1.0, 1.0, 1.0, 100, 1.0)\n",
    "wind_calculator = WindEnergyCalculator(params)\n",
    "\n",
    "# Example usage of functions\n",
    "z_value = 50\n",
    "result_W_e = wind_calculator.W_e(z_value)\n",
    "result_F_fr = wind_calculator.F_fr(z_value)\n",
    "\n",
    "print(f\"W_e({z_value}) = {result_W_e}\")\n",
    "print(f\"F_fr({z_value}) = {result_F_fr}\")"
   ]
  },
  {
   "cell_type": "code",
   "execution_count": 5,
   "id": "52657518-b2f7-4a2b-bb2c-475ffa59e209",
   "metadata": {
    "tags": []
   },
   "outputs": [
    {
     "data": {
      "text/plain": [
       "1.6239882352941177"
      ]
     },
     "execution_count": 5,
     "metadata": {},
     "output_type": "execute_result"
    }
   ],
   "source": []
  },
  {
   "cell_type": "code",
   "execution_count": null,
   "id": "6db07c84-6670-4e55-8d2b-c49dbbbb1e41",
   "metadata": {},
   "outputs": [],
   "source": []
  }
 ],
 "metadata": {
  "kernelspec": {
   "display_name": "Python 3 (ipykernel)",
   "language": "python",
   "name": "python3"
  },
  "language_info": {
   "codemirror_mode": {
    "name": "ipython",
    "version": 3
   },
   "file_extension": ".py",
   "mimetype": "text/x-python",
   "name": "python",
   "nbconvert_exporter": "python",
   "pygments_lexer": "ipython3",
   "version": "3.10.9"
  }
 },
 "nbformat": 4,
 "nbformat_minor": 5
}
