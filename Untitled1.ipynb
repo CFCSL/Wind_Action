{
 "cells": [
  {
   "cell_type": "code",
   "execution_count": 18,
   "id": "0fa01ae5-b879-463f-bdf4-7262d8327f4f",
   "metadata": {
    "tags": []
   },
   "outputs": [],
   "source": [
    "from CompositeFunction import *\n",
    "import numpy as np\n"
   ]
  },
  {
   "cell_type": "code",
   "execution_count": 19,
   "id": "c4979f75-2ef2-444d-af53-3acefca46bd4",
   "metadata": {
    "tags": []
   },
   "outputs": [
    {
     "ename": "NameError",
     "evalue": "name 'g1' is not defined",
     "output_type": "error",
     "traceback": [
      "\u001b[1;31m---------------------------------------------------------------------------\u001b[0m",
      "\u001b[1;31mNameError\u001b[0m                                 Traceback (most recent call last)",
      "Cell \u001b[1;32mIn[19], line 1\u001b[0m\n\u001b[1;32m----> 1\u001b[0m display(\u001b[43mg1\u001b[49m())\n",
      "\u001b[1;31mNameError\u001b[0m: name 'g1' is not defined"
     ]
    }
   ],
   "source": [
    "display(g1())"
   ]
  },
  {
   "cell_type": "code",
   "execution_count": null,
   "id": "b5fe73fb-1ffa-4283-a8d7-a42e74a6adff",
   "metadata": {},
   "outputs": [],
   "source": []
  }
 ],
 "metadata": {
  "kernelspec": {
   "display_name": "Python 3 (ipykernel)",
   "language": "python",
   "name": "python3"
  },
  "language_info": {
   "codemirror_mode": {
    "name": "ipython",
    "version": 3
   },
   "file_extension": ".py",
   "mimetype": "text/x-python",
   "name": "python",
   "nbconvert_exporter": "python",
   "pygments_lexer": "ipython3",
   "version": "3.10.9"
  }
 },
 "nbformat": 4,
 "nbformat_minor": 5
}
