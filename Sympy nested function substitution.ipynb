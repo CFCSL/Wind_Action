{
 "cells": [
  {
   "cell_type": "markdown",
   "id": "ca7ea0ff",
   "metadata": {},
   "source": [
    "# Sympy: substitution of nested functions"
   ]
  },
  {
   "cell_type": "markdown",
   "id": "7fc80915",
   "metadata": {},
   "source": [
    "## Introduce the parameters"
   ]
  },
  {
   "cell_type": "code",
   "execution_count": 5,
   "id": "8f3739ed",
   "metadata": {},
   "outputs": [
    {
     "data": {
      "text/latex": [
       "$\\displaystyle f{\\left(x \\right)}$"
      ],
      "text/plain": [
       "f(x)"
      ]
     },
     "metadata": {},
     "output_type": "display_data"
    },
    {
     "data": {
      "text/latex": [
       "$\\displaystyle g{\\left(f{\\left(x \\right)},y \\right)}$"
      ],
      "text/plain": [
       "g(f(x), y)"
      ]
     },
     "metadata": {},
     "output_type": "display_data"
    },
    {
     "data": {
      "text/latex": [
       "$\\displaystyle k{\\left(g{\\left(f{\\left(x \\right)},y \\right)},y \\right)}$"
      ],
      "text/plain": [
       "k(g(f(x), y), y)"
      ]
     },
     "metadata": {},
     "output_type": "display_data"
    }
   ],
   "source": [
    "from sympy import symbols, Function, UnevaluatedExpr\n",
    "\n",
    "x, y= symbols('x y')\n",
    "f=symbols('f',cls=Function)(x)\n",
    "g=symbols('g',cls=Function)(f,y)\n",
    "k=symbols('k',cls=Function)(g,y)\n",
    "\n",
    "display(f)\n",
    "display(g)\n",
    "display(k)\n",
    "\n"
   ]
  },
  {
   "cell_type": "markdown",
   "id": "211b40b8",
   "metadata": {},
   "source": [
    "## kwargs concept"
   ]
  },
  {
   "cell_type": "code",
   "execution_count": 6,
   "id": "52c0511b",
   "metadata": {},
   "outputs": [
    {
     "data": {
      "text/latex": [
       "$\\displaystyle x + 1$"
      ],
      "text/plain": [
       "x + 1"
      ]
     },
     "metadata": {},
     "output_type": "display_data"
    },
    {
     "data": {
      "text/latex": [
       "$\\displaystyle y + f{\\left(x \\right)}$"
      ],
      "text/plain": [
       "y + f(x)"
      ]
     },
     "metadata": {},
     "output_type": "display_data"
    },
    {
     "data": {
      "text/latex": [
       "$\\displaystyle y + g{\\left(f{\\left(x \\right)},y \\right)}$"
      ],
      "text/plain": [
       "y + g(f(x), y)"
      ]
     },
     "metadata": {},
     "output_type": "display_data"
    }
   ],
   "source": [
    "def f_func1(**kwargs):\n",
    "    return x+1\n",
    "def g_func1(**kwargs):\n",
    "    return f+y\n",
    "def k_func1(**kwargs):\n",
    "    return g+y\n",
    "\n",
    "display(f_func1())\n",
    "display(g_func1())\n",
    "display(k_func1())"
   ]
  },
  {
   "cell_type": "markdown",
   "id": "489e1f4b",
   "metadata": {},
   "source": [
    "## introducing substitution"
   ]
  },
  {
   "cell_type": "code",
   "execution_count": 7,
   "id": "851a3dfd",
   "metadata": {},
   "outputs": [
    {
     "name": "stdout",
     "output_type": "stream",
     "text": [
      "--------------------------\n"
     ]
    },
    {
     "data": {
      "text/latex": [
       "$\\displaystyle x + 1$"
      ],
      "text/plain": [
       "x + 1"
      ]
     },
     "metadata": {},
     "output_type": "display_data"
    },
    {
     "data": {
      "text/latex": [
       "$\\displaystyle 3$"
      ],
      "text/plain": [
       "3"
      ]
     },
     "metadata": {},
     "output_type": "display_data"
    },
    {
     "name": "stdout",
     "output_type": "stream",
     "text": [
      "--------------------------\n"
     ]
    },
    {
     "data": {
      "text/latex": [
       "$\\displaystyle y + f{\\left(x \\right)}$"
      ],
      "text/plain": [
       "y + f(x)"
      ]
     },
     "metadata": {},
     "output_type": "display_data"
    },
    {
     "data": {
      "text/latex": [
       "$\\displaystyle y + f{\\left(x \\right)}$"
      ],
      "text/plain": [
       "y + f(x)"
      ]
     },
     "metadata": {},
     "output_type": "display_data"
    },
    {
     "data": {
      "text/latex": [
       "$\\displaystyle y + f{\\left(3 \\right)}$"
      ],
      "text/plain": [
       "y + f(3)"
      ]
     },
     "metadata": {},
     "output_type": "display_data"
    },
    {
     "name": "stdout",
     "output_type": "stream",
     "text": [
      "--------------------------\n"
     ]
    },
    {
     "data": {
      "text/latex": [
       "$\\displaystyle y + g{\\left(f{\\left(x \\right)},y \\right)}$"
      ],
      "text/plain": [
       "y + g(f(x), y)"
      ]
     },
     "metadata": {},
     "output_type": "display_data"
    },
    {
     "data": {
      "text/latex": [
       "$\\displaystyle y + g{\\left(f{\\left(x \\right)},y \\right)}$"
      ],
      "text/plain": [
       "y + g(f(x), y)"
      ]
     },
     "metadata": {},
     "output_type": "display_data"
    },
    {
     "data": {
      "text/latex": [
       "$\\displaystyle y + g{\\left(f{\\left(2 \\right)},y \\right)}$"
      ],
      "text/plain": [
       "y + g(f(2), y)"
      ]
     },
     "metadata": {},
     "output_type": "display_data"
    }
   ],
   "source": [
    "def f_func2(**kwargs):\n",
    "    expr=x+1\n",
    "    expr=expr.subs(kwargs)\n",
    "    return expr\n",
    "\n",
    "def g_func2(**kwargs):\n",
    "    expr=f+y\n",
    "    expr=expr.subs(kwargs)\n",
    "    return expr\n",
    "\n",
    "def k_func2(**kwargs):\n",
    "    expr=g+y\n",
    "    expr=expr.subs(kwargs)\n",
    "    return expr\n",
    "\n",
    "print('--------------------------')\n",
    "display(f_func2())\n",
    "display(f_func2(x=2))\n",
    "print('--------------------------')\n",
    "display(g_func2())\n",
    "display(g_func2(f=f_func2()))       #f=f_func2() has no effect because g is already replaced\n",
    "display(g_func2(f=f_func2(),x=3))   #f will not be replaced because sympy does not substitute the nested functions.\n",
    "print('--------------------------')\n",
    "display(k_func2())\n",
    "display(k_func2(g=g_func2()))      #g=g_func2() has no effect because g is already replaced\n",
    "display(k_func2(g=g_func2(),x=2))  # f will not be replaced because sympy does not substitute the nested functions."
   ]
  },
  {
   "cell_type": "markdown",
   "id": "4f07b96b",
   "metadata": {},
   "source": [
    "### introducing default parameters"
   ]
  },
  {
   "cell_type": "code",
   "execution_count": 8,
   "id": "c011068f",
   "metadata": {},
   "outputs": [
    {
     "name": "stdout",
     "output_type": "stream",
     "text": [
      "--------------------------\n"
     ]
    },
    {
     "data": {
      "text/latex": [
       "$\\displaystyle y + f{\\left(x \\right)}$"
      ],
      "text/plain": [
       "y + f(x)"
      ]
     },
     "metadata": {},
     "output_type": "display_data"
    },
    {
     "data": {
      "text/latex": [
       "$\\displaystyle y + 1 + x$"
      ],
      "text/plain": [
       "y + 1 + x"
      ]
     },
     "metadata": {},
     "output_type": "display_data"
    },
    {
     "data": {
      "text/latex": [
       "$\\displaystyle y + 1 + 3$"
      ],
      "text/plain": [
       "y + 1 + 3"
      ]
     },
     "metadata": {},
     "output_type": "display_data"
    },
    {
     "data": {
      "text/latex": [
       "$\\displaystyle y + 4$"
      ],
      "text/plain": [
       "y + 4"
      ]
     },
     "metadata": {},
     "output_type": "display_data"
    },
    {
     "name": "stdout",
     "output_type": "stream",
     "text": [
      "--------------------------\n"
     ]
    },
    {
     "data": {
      "text/latex": [
       "$\\displaystyle y + g{\\left(f{\\left(x \\right)},y \\right)}$"
      ],
      "text/plain": [
       "y + g(f(x), y)"
      ]
     },
     "metadata": {},
     "output_type": "display_data"
    },
    {
     "data": {
      "text/latex": [
       "$\\displaystyle y + y + f{\\left(x \\right)}$"
      ],
      "text/plain": [
       "y + (y + f(x))"
      ]
     },
     "metadata": {},
     "output_type": "display_data"
    },
    {
     "data": {
      "text/latex": [
       "$\\displaystyle y + y + f{\\left(x \\right)}$"
      ],
      "text/plain": [
       "y + (y + f(x))"
      ]
     },
     "metadata": {},
     "output_type": "display_data"
    },
    {
     "data": {
      "text/latex": [
       "$\\displaystyle y + y + f{\\left(3 \\right)}$"
      ],
      "text/plain": [
       "y + (y + f(3))"
      ]
     },
     "metadata": {},
     "output_type": "display_data"
    }
   ],
   "source": [
    "def f_func3(x=x,**kwargs):\n",
    "    x=UnevaluatedExpr(x)\n",
    "    expr=x+1\n",
    "    expr=expr.subs(kwargs)\n",
    "    return expr\n",
    "\n",
    "def g_func3(f=f,**kwargs):\n",
    "    #f=UnevaluatedExpr(f)\n",
    "    expr=f+y\n",
    "    expr=expr.subs(kwargs)\n",
    "    return expr\n",
    "\n",
    "def k_func3(g=g,**kwargs):\n",
    "    g=UnevaluatedExpr(g)\n",
    "    expr=g+y\n",
    "    expr=expr.subs(kwargs)\n",
    "    return expr\n",
    "\n",
    "\n",
    "print('--------------------------')\n",
    "display(g_func3())\n",
    "display(g_func3(f=f_func3()))               #f=f_func2() works beacuse of UnevaluatedExpr\n",
    "display(g_func3(f=f_func3(),x=3))           # f will not be replaced because sympy does not substitute the nested functions.\n",
    "display(g_func3(f=f_func3(),x=3).doit()) \n",
    "print('--------------------------')\n",
    "display(k_func3())\n",
    "display(k_func3(g=g_func3()))                #g=g_func3() works beacuse of UnevaluatedExpr\n",
    "display(k_func3(g=g_func3(),f=f_func3()))    #f=f_func3() does NOT work because sympy does not substitute the nested functions.\n",
    "display(k_func3(g=g_func3(),f=f_func3(),x=3)) "
   ]
  },
  {
   "cell_type": "markdown",
   "id": "278f8010",
   "metadata": {},
   "source": [
    "#### using an auxilary paramtere ( Does NOT work)"
   ]
  },
  {
   "cell_type": "code",
   "execution_count": 9,
   "id": "8960ac99",
   "metadata": {},
   "outputs": [
    {
     "name": "stdout",
     "output_type": "stream",
     "text": [
      "--------------------------\n"
     ]
    },
    {
     "data": {
      "text/latex": [
       "$\\displaystyle y + g{\\left(f{\\left(x \\right)},y \\right)}$"
      ],
      "text/plain": [
       "y + g(f(x), y)"
      ]
     },
     "metadata": {},
     "output_type": "display_data"
    },
    {
     "data": {
      "text/latex": [
       "$\\displaystyle y + y + f{\\left(x \\right)}$"
      ],
      "text/plain": [
       "y + (y + f(x))"
      ]
     },
     "metadata": {},
     "output_type": "display_data"
    },
    {
     "data": {
      "text/latex": [
       "$\\displaystyle y + y + f{\\left(x \\right)}$"
      ],
      "text/plain": [
       "y + (y + f(x))"
      ]
     },
     "metadata": {},
     "output_type": "display_data"
    },
    {
     "data": {
      "text/latex": [
       "$\\displaystyle y + y + f{\\left(3 \\right)}$"
      ],
      "text/plain": [
       "y + (y + f(3))"
      ]
     },
     "metadata": {},
     "output_type": "display_data"
    }
   ],
   "source": [
    "f1, g1= symbols('f1 g1')\n",
    "\n",
    "def f_func4(x=x,**kwargs):\n",
    "    x=UnevaluatedExpr(x)\n",
    "    expr=x+1\n",
    "    expr=expr.subs(kwargs)\n",
    "    return expr\n",
    "\n",
    "def g_func4(f1=f,**kwargs):\n",
    "    f1=UnevaluatedExpr(f1)\n",
    "    expr=f1+y\n",
    "    expr=expr.subs(kwargs)\n",
    "    return expr\n",
    "\n",
    "def k_func4(g1=g,**kwargs):\n",
    "    g1=UnevaluatedExpr(g1)\n",
    "    expr=g1+y\n",
    "    expr=expr.subs(kwargs)\n",
    "    return expr\n",
    "\n",
    "print('--------------------------')\n",
    "display(k_func4())\n",
    "display(k_func4(g1=g_func4()))                 #g=g_func3() works beacuse of UnevaluatedExpr\n",
    "display(k_func4(g1=g_func4(),f1=f_func4()))    #f=f_func3() does NOT work because sympy does not substitute the nested functions.\n",
    "display(k_func4(g1=g_func4(),f1=f_func4(),x=3)) "
   ]
  },
  {
   "cell_type": "markdown",
   "id": "12c268c6",
   "metadata": {},
   "source": [
    "## This works too, but skip to the final solution."
   ]
  },
  {
   "cell_type": "code",
   "execution_count": 10,
   "id": "d64120e7",
   "metadata": {},
   "outputs": [
    {
     "data": {
      "text/latex": [
       "$\\displaystyle y + z + g{\\left(x,y \\right)}$"
      ],
      "text/plain": [
       "y + z + g(x, y)"
      ]
     },
     "metadata": {},
     "output_type": "display_data"
    },
    {
     "data": {
      "text/latex": [
       "$\\displaystyle 2 y + z + f{\\left(x \\right)}$"
      ],
      "text/plain": [
       "2*y + z + f(x)"
      ]
     },
     "metadata": {},
     "output_type": "display_data"
    },
    {
     "data": {
      "text/latex": [
       "$\\displaystyle 2 y + z + 1 + x$"
      ],
      "text/plain": [
       "2*y + z + 1 + x"
      ]
     },
     "metadata": {},
     "output_type": "display_data"
    },
    {
     "data": {
      "text/latex": [
       "$\\displaystyle 2 y + z + 1 + 3$"
      ],
      "text/plain": [
       "2*y + z + 1 + 3"
      ]
     },
     "metadata": {},
     "output_type": "display_data"
    },
    {
     "data": {
      "text/latex": [
       "$\\displaystyle 2 y + z + 1 + x$"
      ],
      "text/plain": [
       "2*y + z + 1 + x"
      ]
     },
     "metadata": {},
     "output_type": "display_data"
    },
    {
     "data": {
      "text/latex": [
       "$\\displaystyle 2 y + z + 1 + 3$"
      ],
      "text/plain": [
       "2*y + z + 1 + 3"
      ]
     },
     "metadata": {},
     "output_type": "display_data"
    }
   ],
   "source": [
    "from sympy import symbols, Function, UnevaluatedExpr\n",
    "x, y, z= symbols('x y z')\n",
    "f=symbols('f',cls=Function)(x)\n",
    "g=symbols('g',cls=Function)(x,y)\n",
    "k=symbols('k',cls=Function)(x,y)\n",
    "\n",
    "def f_func5(x=x,**kwargs):\n",
    "    x=UnevaluatedExpr(x)\n",
    "    expr=x+1\n",
    "    expr=expr.subs(kwargs)\n",
    "    return expr\n",
    "\n",
    "def g_func5(f=f,**kwargs):\n",
    "    expr=f+y\n",
    "    expr=expr.subs(kwargs)\n",
    "    return expr\n",
    "\n",
    "def k_func5(g=g,**kwargs):\n",
    "    #print(kwargs)\n",
    "    expr=g+y+z\n",
    "    expr=expr.subs(kwargs)\n",
    "    return expr\n",
    "\n",
    "# nested dictionary\n",
    "db={}\n",
    "db={'g':g_func5(),'f':f_func5()}\n",
    "db={'g':g_func5(**db),'f':f_func5(**db)}\n",
    "\n",
    "display(k_func5())\n",
    "display(k_func5(g=g_func5()))                 \n",
    "display(k_func5(g=g_func5(**db),f=f_func5(**db)))    \n",
    "display(k_func5(g=g_func5(**db),f=z,x=3)) \n",
    "display(k_func5(**db)) \n",
    "display(k_func5(**db,x=3)) "
   ]
  },
  {
   "cell_type": "markdown",
   "id": "d80e41d9",
   "metadata": {},
   "source": [
    "# Final solution (Works !!!)\n",
    "- The reason for the nested function substituton was not working was that when introducing kwargs into a function, the keys of the dictionary (kwargs) must be strings. this string is ok for symbols but for function wont be replaced. the key is to evaluate the dict items using eval() so sympy subs recognize them. This simplify the problem. \n",
    "    \n",
    "- Also the Unevaluated expressions wont be needed in the function as it can be defined globally and once.\n",
    "- The default values won't be needed either."
   ]
  },
  {
   "cell_type": "code",
   "execution_count": 3,
   "id": "74d26b33",
   "metadata": {
    "tags": []
   },
   "outputs": [
    {
     "data": {
      "text/latex": [
       "$\\displaystyle y + z + g{\\left(x,y \\right)}$"
      ],
      "text/plain": [
       "y + z + g(x, y)"
      ]
     },
     "metadata": {},
     "output_type": "display_data"
    },
    {
     "data": {
      "text/latex": [
       "$\\displaystyle 2 y + z + f{\\left(x \\right)}$"
      ],
      "text/plain": [
       "2*y + z + f(x)"
      ]
     },
     "metadata": {},
     "output_type": "display_data"
    },
    {
     "data": {
      "text/latex": [
       "$\\displaystyle 2 y + z + 1 + x$"
      ],
      "text/plain": [
       "2*y + z + 1 + x"
      ]
     },
     "metadata": {},
     "output_type": "display_data"
    },
    {
     "data": {
      "text/latex": [
       "$\\displaystyle 2 y + z + 4$"
      ],
      "text/plain": [
       "2*y + z + 4"
      ]
     },
     "metadata": {},
     "output_type": "display_data"
    },
    {
     "data": {
      "text/latex": [
       "$\\displaystyle 2 y + z + 1 + x$"
      ],
      "text/plain": [
       "2*y + z + 1 + x"
      ]
     },
     "metadata": {},
     "output_type": "display_data"
    },
    {
     "data": {
      "text/latex": [
       "$\\displaystyle 2 y + z + 4$"
      ],
      "text/plain": [
       "2*y + z + 4"
      ]
     },
     "metadata": {},
     "output_type": "display_data"
    }
   ],
   "source": [
    "from sympy import symbols, Function, UnevaluatedExpr\n",
    "x, y, z= symbols('x y z')\n",
    "f=symbols('f',cls=Function)(x)\n",
    "g=symbols('g',cls=Function)(x,y)\n",
    "k=symbols('k',cls=Function)(x,y)\n",
    "x=UnevaluatedExpr(x)\n",
    "\n",
    "def f_func6(**kwargs):\n",
    "    kwargs = {eval(key): value for key, value in kwargs.items()}\n",
    "    expr=x+1\n",
    "    expr=expr.subs(kwargs)\n",
    "    return expr\n",
    "\n",
    "def g_func6(**kwargs):\n",
    "    kwargs = {eval(key): value for key, value in kwargs.items()}\n",
    "    expr=f+y\n",
    "    expr=expr.subs(kwargs)\n",
    "    return expr\n",
    "\n",
    "def k_func6(**kwargs):\n",
    "    kwargs = {eval(key): value for key, value in kwargs.items()}\n",
    "    #print(kwargs)\n",
    "    expr=g+y+z\n",
    "    expr=expr.subs(kwargs)\n",
    "    return expr\n",
    "\n",
    "#  dictionary ( does not to be nested anymore)\n",
    "db={}\n",
    "db={'g':g_func6(),'f':f_func6()}\n",
    "\n",
    "\n",
    "\n",
    "display(k_func6())\n",
    "display(k_func6(g=g_func6()))                 \n",
    "display(k_func6(g=g_func6(**db),f=f_func6(**db)))    \n",
    "display(k_func6(g=g_func6(**db),f=z,x=3)) \n",
    "display(k_func6(**db)) \n",
    "display(k_func6(**db,x=3)) "
   ]
  },
  {
   "cell_type": "code",
   "execution_count": null,
   "id": "683ddb55",
   "metadata": {},
   "outputs": [],
   "source": []
  }
 ],
 "metadata": {
  "hide_input": false,
  "kernelspec": {
   "display_name": "Python 3 (ipykernel)",
   "language": "python",
   "name": "python3"
  },
  "language_info": {
   "codemirror_mode": {
    "name": "ipython",
    "version": 3
   },
   "file_extension": ".py",
   "mimetype": "text/x-python",
   "name": "python",
   "nbconvert_exporter": "python",
   "pygments_lexer": "ipython3",
   "version": "3.10.9"
  }
 },
 "nbformat": 4,
 "nbformat_minor": 5
}
